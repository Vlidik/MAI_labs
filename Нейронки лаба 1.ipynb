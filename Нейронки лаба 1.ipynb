{
 "cells": [
  {
   "cell_type": "code",
   "execution_count": 233,
   "metadata": {},
   "outputs": [],
   "source": [
    "import numpy as np\n",
    "from matplotlib import pyplot as plt\n",
    "%matplotlib inline"
   ]
  },
  {
   "cell_type": "code",
   "execution_count": 234,
   "metadata": {},
   "outputs": [],
   "source": [
    "class Perceptron(object):\n",
    "\n",
    "    def __init__(self, no_of_inputs, threshold=500, learning_rate=0.01):\n",
    "        self.threshold = threshold\n",
    "        self.learning_rate = learning_rate\n",
    "        self.weights = np.zeros(no_of_inputs + 1)\n",
    "           \n",
    "    def predict(self, inputs):\n",
    "        summation = np.dot(inputs, self.weights[1:]) + self.weights[0]\n",
    "        if summation > 0:\n",
    "          activation = 1\n",
    "        else:\n",
    "          activation = 0            \n",
    "        return activation\n",
    "\n",
    "    def train(self, training_inputs, labels):\n",
    "        for _ in range(self.threshold):\n",
    "            for inputs, label in zip(training_inputs, labels):\n",
    "                prediction = self.predict(inputs)\n",
    "                self.weights[1:] += self.learning_rate * (label - prediction) * inputs\n",
    "                self.weights[0] += self.learning_rate * (label - prediction)"
   ]
  },
  {
   "cell_type": "markdown",
   "metadata": {},
   "source": [
    "# TASK 1"
   ]
  },
  {
   "cell_type": "code",
   "execution_count": 235,
   "metadata": {},
   "outputs": [],
   "source": [
    "train = []\n",
    "train.append(np.array([2.7, 4.3]))\n",
    "train.append(np.array([-3.8, 0.6]))\n",
    "train.append(np.array([-0.4, -4.9]))\n",
    "train.append(np.array([-1.7, -3.4]))\n",
    "train.append(np.array([2.9, -1.9]))\n",
    "train.append(np.array([0.2, -3.4]))\n",
    "train.append(np.array([-1.7, -3.4]))\n",
    "\n",
    "labels = np.array([0, 0, 1, 1, 1, 1])\n",
    "\n",
    "cls.train(train, labels)"
   ]
  },
  {
   "cell_type": "code",
   "execution_count": 236,
   "metadata": {},
   "outputs": [],
   "source": [
    "weight = []\n",
    "for i in range(-5, 6):\n",
    "    weight.append((-cls.weights[0] - cls.weights[1] * i) / cls.weights[2])"
   ]
  },
  {
   "cell_type": "code",
   "execution_count": 237,
   "metadata": {
    "scrolled": true
   },
   "outputs": [
    {
     "data": {
      "text/plain": [
       "[<matplotlib.lines.Line2D at 0x1df2d9d65f8>]"
      ]
     },
     "execution_count": 237,
     "metadata": {},
     "output_type": "execute_result"
    },
    {
     "data": {
      "image/png": "[encoded data removed]",
      "text/plain": [
       "<Figure size 432x288 with 1 Axes>"
      ]
     },
     "metadata": {
      "needs_background": "light"
     },
     "output_type": "display_data"
    }
   ],
   "source": [
    "plt.plot(range(-5, 6), weight)\n",
    "plt.plot([2.7,-3.8,-0.4,-1.7,2.9,0.2], [4.3,0.6,-4.9,-3.4,-1.9,-3.4], 'ro')"
   ]
  },
  {
   "cell_type": "code",
   "execution_count": 238,
   "metadata": {},
   "outputs": [
    {
     "name": "stdout",
     "output_type": "stream",
     "text": [
      "Prediction for (-0.8424682875966205, -4.675905833541362) is: 1\n",
      "Prediction for (2.2466732302724903, -1.2115723358473387) is: 1\n",
      "Prediction for (4.399876135953686, 0.317097546916675) is: 0\n"
     ]
    }
   ],
   "source": [
    "data = []\n",
    "for i in range(3):\n",
    "    data.append((np.random.random_sample()*10 - 5, np.random.random_sample()*10 - 5))\n",
    "\n",
    "predict = []\n",
    "for d in data:\n",
    "    predict.append(cls.predict(d))\n",
    "    print(\"Prediction for\", d, 'is:', cls.predict(d))"
   ]
  },
  {
   "cell_type": "code",
   "execution_count": 239,
   "metadata": {},
   "outputs": [
    {
     "data": {
      "text/plain": [
       "[<matplotlib.lines.Line2D at 0x1df2da8acf8>]"
      ]
     },
     "execution_count": 239,
     "metadata": {},
     "output_type": "execute_result"
    },
    {
     "data": {
      "image/png": "[encoded data removed]",
      "text/plain": [
       "<Figure size 432x288 with 1 Axes>"
      ]
     },
     "metadata": {
      "needs_background": "light"
     },
     "output_type": "display_data"
    }
   ],
   "source": [
    "weight = []\n",
    "for i in range(-5, 6):\n",
    "    weight.append((-cls.weights[0] - cls.weights[1] * i) / cls.weights[2])\n",
    "    \n",
    "plt.plot(range(-5, 6), weight)\n",
    "plt.plot([data[0][0],data[1][0],data[2][0]], [data[0][1],data[1][1],data[2][1]], 'ro')"
   ]
  },
  {
   "cell_type": "markdown",
   "metadata": {},
   "source": [
    "# TASK 2"
   ]
  },
  {
   "cell_type": "code",
   "execution_count": 240,
   "metadata": {},
   "outputs": [],
   "source": [
    "train2 = []\n",
    "train2.append(np.array([-1.5, -0.6]))\n",
    "train2.append(np.array([4.6, -4.6]))\n",
    "train2.append(np.array([4.7, -3.2]))\n",
    "train2.append(np.array([1.6, 0.8]))\n",
    "train2.append(np.array([1.7, -1.4]))\n",
    "train2.append(np.array([1.2, 3.1]))\n",
    "train2.append(np.array([-4.9, -4.2]))\n",
    "train2.append(np.array([4.7, 1.5]))\n",
    "\n",
    "labels_1 = np.array([0,0,0,1,0,1,0,1])\n",
    "labels_2 = np.array([0,1,1,0,0,0,1,1])"
   ]
  },
  {
   "cell_type": "code",
   "execution_count": 241,
   "metadata": {},
   "outputs": [],
   "source": [
    "cls_1 = Perceptron(2)\n",
    "cls_2 = Perceptron(2)"
   ]
  },
  {
   "cell_type": "code",
   "execution_count": 242,
   "metadata": {},
   "outputs": [],
   "source": [
    "cls_1.train(train2, labels_1)\n",
    "cls_2.train(train2, labels_2)"
   ]
  },
  {
   "cell_type": "code",
   "execution_count": 243,
   "metadata": {},
   "outputs": [
    {
     "name": "stdout",
     "output_type": "stream",
     "text": [
      "[0, 0, 0, 1, 0, 1, 0, 1]\n",
      "[0, 1, 1, 0, 1, 0, 1, 0]\n"
     ]
    }
   ],
   "source": [
    "prediction_1 = []\n",
    "prediction_2 = []\n",
    "for i in train2:\n",
    "    prediction_1.append(cls_1.predict(i))\n",
    "    prediction_2.append(cls_2.predict(i))\n",
    "print(prediction_1)\n",
    "print(prediction_2)"
   ]
  },
  {
   "cell_type": "code",
   "execution_count": 244,
   "metadata": {},
   "outputs": [
    {
     "data": {
      "image/png": "[encoded data removed]",
      "text/plain": [
       "<Figure size 432x288 with 1 Axes>"
      ]
     },
     "metadata": {
      "needs_background": "light"
     },
     "output_type": "display_data"
    }
   ],
   "source": [
    "weight1 = []\n",
    "for i in range(-5, 6):\n",
    "    weight1.append((-cls_1.weights[0] - cls_1.weights[1] * i) / cls_1.weights[2])\n",
    "    \n",
    "weight2 = []\n",
    "for i in range(-5, 6):\n",
    "    weight2.append((-cls_2.weights[0] - cls_2.weights[1] * i) / cls_2.weights[2])\n",
    "    \n",
    "plt.plot(range(-5, 6), weight1)\n",
    "plt.plot(range(-5, 6), weight2)\n",
    "plt.plot([-1.5, 4.6, 4.7, 1.6, 1.7, 1.2, -4.9, 4.7], [-0.6, -4.6, -3.2, 0.8, -1.4, 3.1, -4.2, 1.5], 'ro')\n",
    "plt.show()"
   ]
  },
  {
   "cell_type": "code",
   "execution_count": null,
   "metadata": {},
   "outputs": [],
   "source": []
  },
  {
   "cell_type": "code",
   "execution_count": 245,
   "metadata": {},
   "outputs": [],
   "source": [
    "##########################################"
   ]
  },
  {
   "cell_type": "code",
   "execution_count": 246,
   "metadata": {},
   "outputs": [
    {
     "name": "stdout",
     "output_type": "stream",
     "text": [
      "00\n",
      "11\n",
      "01\n",
      "00\n",
      "01\n",
      "10\n",
      "11\n",
      "10\n"
     ]
    }
   ],
   "source": [
    "training_inputs = []\n",
    "\n",
    "training_inputs.append(np.array([-0.5, -2.6]))\n",
    "training_inputs.append(np.array([2.8, 3.8]))\n",
    "training_inputs.append(np.array([4.1, 0.5]))\n",
    "training_inputs.append(np.array([0.9, -3.6]))\n",
    "training_inputs.append(np.array([3.9, -0.5]))\n",
    "training_inputs.append(np.array([-3.0, 3.9]))\n",
    "training_inputs.append(np.array([2.6, 3.8]))\n",
    "training_inputs.append(np.array([-2.2, 1.7]))\n",
    "\n",
    "labels_1 = np.array([0,1,0,0,0,1,1,1])\n",
    "labels_2 = np.array([0,1,1,0,1,0,1,0])\n",
    "\n",
    "perceptron_1 = Perceptron(2)\n",
    "perceptron_1.train(training_inputs, labels_1)\n",
    "\n",
    "perceptron_2 = Perceptron(2)\n",
    "perceptron_2.train(training_inputs, labels_2)\n",
    "\n",
    "# inputs = np.array([-5, 5])\n",
    "\n",
    "for i in training_inputs:\n",
    "    predict1 = str(perceptron_1.predict(i))\n",
    "    predict2 = str(perceptron_2.predict(i))\n",
    "    predict = predict1 + predict2\n",
    "\n",
    "    print(predict)\n",
    "\n",
    "# predict1 = str(perceptron_1.predict(inputs))\n",
    "# predict2 = str(perceptron_2.predict(inputs))\n",
    "# predict = predict1 + predict2\n",
    "#\n",
    "# print(predict)"
   ]
  },
  {
   "cell_type": "code",
   "execution_count": 247,
   "metadata": {},
   "outputs": [
    {
     "data": {
      "image/png": "[encoded data removed]",
      "text/plain": [
       "<Figure size 432x288 with 1 Axes>"
      ]
     },
     "metadata": {
      "needs_background": "light"
     },
     "output_type": "display_data"
    }
   ],
   "source": [
    "weight1 = []\n",
    "for i in range(-5, 6):\n",
    "    weight1.append((-perceptron_1.weights[0] - perceptron_1.weights[1] * i) / perceptron_1.weights[2])\n",
    "    \n",
    "weight2 = []\n",
    "for i in range(-5, 6):\n",
    "    weight2.append((-perceptron_2.weights[0] - perceptron_2.weights[1] * i) / perceptron_2.weights[2])\n",
    "    \n",
    "plt.plot(range(-5, 6), weight1)\n",
    "plt.plot(range(-5, 6), weight2)\n",
    "plt.plot([-0.5,0.9], [-2.6,-3.6], 'ro', color='red')\n",
    "plt.plot([2.8,2.6], [3.8,3.8], 'ro', color='yellow')\n",
    "plt.plot([4.1,3.9], [0.5,-0.5], 'ro', color='blue')\n",
    "plt.plot([-3.0,-2.2], [3.9,1.7], 'ro', color='black')\n",
    "plt.show()"
   ]
  },
  {
   "cell_type": "code",
   "execution_count": 248,
   "metadata": {},
   "outputs": [
    {
     "name": "stdout",
     "output_type": "stream",
     "text": [
      "Prediction 1 for (-4.017864947378121, 4.550290262537175) is: 1\n",
      "Prediction 2 for (-4.017864947378121, 4.550290262537175) is: 0\n",
      "Prediction 1 for (-0.7324635280191183, -2.5948171645917792) is: 0\n",
      "Prediction 2 for (-0.7324635280191183, -2.5948171645917792) is: 0\n",
      "Prediction 1 for (-4.965553899674092, -3.317295376858186) is: 0\n",
      "Prediction 2 for (-4.965553899674092, -3.317295376858186) is: 0\n",
      "Prediction 1 for (-1.8675935873999574, -1.1163718236629663) is: 0\n",
      "Prediction 2 for (-1.8675935873999574, -1.1163718236629663) is: 0\n",
      "Prediction 1 for (-4.040343879609951, -1.5806593691079627) is: 1\n",
      "Prediction 2 for (-4.040343879609951, -1.5806593691079627) is: 0\n"
     ]
    }
   ],
   "source": [
    "data1 = []\n",
    "for i in range(5):\n",
    "    data1.append((np.random.random_sample()*10 - 5, np.random.random_sample()*10 - 5))\n",
    "\n",
    "predict1 = []\n",
    "for d in data1:\n",
    "    print(\"Prediction 1 for\", d, 'is:', perceptron_1.predict(d))\n",
    "    print(\"Prediction 2 for\", d, 'is:', perceptron_2.predict(d))"
   ]
  },
  {
   "cell_type": "code",
   "execution_count": 249,
   "metadata": {},
   "outputs": [
    {
     "data": {
      "text/plain": [
       "[<matplotlib.lines.Line2D at 0x1df2dc0a2e8>]"
      ]
     },
     "execution_count": 249,
     "metadata": {},
     "output_type": "execute_result"
    },
    {
     "data": {
      "image/png": "[encoded data removed]",
      "text/plain": [
       "<Figure size 432x288 with 1 Axes>"
      ]
     },
     "metadata": {
      "needs_background": "light"
     },
     "output_type": "display_data"
    }
   ],
   "source": [
    "weight1 = []\n",
    "for i in range(-5, 6):\n",
    "    weight1.append((-perceptron_1.weights[0] - perceptron_1.weights[1] * i) / perceptron_1.weights[2])\n",
    "    \n",
    "weight2 = []\n",
    "for i in range(-5, 6):\n",
    "    weight2.append((-perceptron_2.weights[0] - perceptron_2.weights[1] * i) / perceptron_2.weights[2])\n",
    "    \n",
    "plt.plot(range(-5, 6), weight1)\n",
    "plt.plot(range(-5, 6), weight2)\n",
    "plt.plot([data1[0][0],data1[1][0],data1[2][0],data1[3][0],data1[4][0]], [data1[0][1],data1[1][1],data1[2][1],data1[3][1],data1[4][1]], 'ro')"
   ]
  },
  {
   "cell_type": "code",
   "execution_count": 255,
   "metadata": {},
   "outputs": [],
   "source": [
    "dots = []\n",
    "\n",
    "dots.append(np.array([1, 1]))\n",
    "dots.append(np.array([0, 1]))\n",
    "dots.append(np.array([0, 0]))\n",
    "dots.append(np.array([1, 0]))\n",
    "\n",
    "lab = [1,0,1,0]\n",
    "cls2 = Perceptron(2)\n",
    "cls2.train(dots, lab)"
   ]
  },
  {
   "cell_type": "code",
   "execution_count": 256,
   "metadata": {},
   "outputs": [
    {
     "name": "stderr",
     "output_type": "stream",
     "text": [
      "C:\\Users\\xiaom\\Anaconda3\\lib\\site-packages\\ipykernel_launcher.py:3: RuntimeWarning: invalid value encountered in double_scalars\n",
      "  This is separate from the ipykernel package so we can avoid doing imports until\n"
     ]
    },
    {
     "data": {
      "text/plain": [
       "[<matplotlib.lines.Line2D at 0x1df2dc414e0>]"
      ]
     },
     "execution_count": 256,
     "metadata": {},
     "output_type": "execute_result"
    },
    {
     "data": {
      "image/png": "[encoded data removed]",
      "text/plain": [
       "<Figure size 432x288 with 1 Axes>"
      ]
     },
     "metadata": {
      "needs_background": "light"
     },
     "output_type": "display_data"
    }
   ],
   "source": [
    "w = []\n",
    "for i in range(-5, 6):\n",
    "    w.append((-cls2.weights[0] - cls2.weights[1] * i) / cls2.weights[2])\n",
    "    \n",
    "plt.plot(range(-5, 6), w)\n",
    "plt.plot([1,0,0,1], [1,1,0,0], 'ro')"
   ]
  },
  {
   "cell_type": "code",
   "execution_count": null,
   "metadata": {},
   "outputs": [],
   "source": []
  }
 ],
 "metadata": {
  "kernelspec": {
   "display_name": "Python 3",
   "language": "python",
   "name": "python3"
  },
  "language_info": {
   "codemirror_mode": {
    "name": "ipython",
    "version": 3
   },
   "file_extension": ".py",
   "mimetype": "text/x-python",
   "name": "python",
   "nbconvert_exporter": "python",
   "pygments_lexer": "ipython3",
   "version": "3.7.3"
  }
 },
 "nbformat": 4,
 "nbformat_minor": 2
}
